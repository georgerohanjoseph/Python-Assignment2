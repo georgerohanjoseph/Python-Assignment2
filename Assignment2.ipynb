{
 "cells": [
  {
   "cell_type": "code",
   "execution_count": null,
   "id": "2e73f3da-17a6-437f-8851-54fa80f64c4d",
   "metadata": {},
   "outputs": [],
   "source": []
  },
  {
   "cell_type": "code",
   "execution_count": 1,
   "id": "6ef995d2-9624-44a1-903f-91ae8edde866",
   "metadata": {},
   "outputs": [],
   "source": [
    "age=25"
   ]
  },
  {
   "cell_type": "code",
   "execution_count": 2,
   "id": "f1ae02d7-8ac4-46fa-8b4e-e3cb06fe062f",
   "metadata": {},
   "outputs": [
    {
     "name": "stdout",
     "output_type": "stream",
     "text": [
      "25\n"
     ]
    }
   ],
   "source": [
    "print(age)"
   ]
  },
  {
   "cell_type": "code",
   "execution_count": 3,
   "id": "d266b040-a56c-4d91-b137-c4f2fc728233",
   "metadata": {},
   "outputs": [
    {
     "data": {
      "text/plain": [
       "int"
      ]
     },
     "execution_count": 3,
     "metadata": {},
     "output_type": "execute_result"
    }
   ],
   "source": [
    "type(age)"
   ]
  },
  {
   "cell_type": "code",
   "execution_count": 4,
   "id": "c1600d1c-d036-4049-8b78-93732a6acf8f",
   "metadata": {},
   "outputs": [],
   "source": [
    "price=12.5"
   ]
  },
  {
   "cell_type": "code",
   "execution_count": 5,
   "id": "6f610a7d-9df6-4167-b384-b37e1cca4da3",
   "metadata": {},
   "outputs": [
    {
     "name": "stdout",
     "output_type": "stream",
     "text": [
      "12.5\n"
     ]
    }
   ],
   "source": [
    "print(price)"
   ]
  },
  {
   "cell_type": "code",
   "execution_count": 6,
   "id": "3601e833-17ab-4e50-ab87-167b4ebcc31b",
   "metadata": {},
   "outputs": [
    {
     "data": {
      "text/plain": [
       "float"
      ]
     },
     "execution_count": 6,
     "metadata": {},
     "output_type": "execute_result"
    }
   ],
   "source": [
    "type(price)"
   ]
  },
  {
   "cell_type": "code",
   "execution_count": 7,
   "id": "cd788806-dfe0-407b-b5ed-c5bd06ec12fb",
   "metadata": {},
   "outputs": [],
   "source": [
    "price=12"
   ]
  },
  {
   "cell_type": "code",
   "execution_count": 8,
   "id": "49667290-929f-4a4a-b904-d8ca03216bf0",
   "metadata": {},
   "outputs": [
    {
     "name": "stdout",
     "output_type": "stream",
     "text": [
      "12\n"
     ]
    }
   ],
   "source": [
    "print(price)"
   ]
  },
  {
   "cell_type": "code",
   "execution_count": 9,
   "id": "99ef9c9f-eca4-4133-a097-c183e943bc52",
   "metadata": {},
   "outputs": [
    {
     "data": {
      "text/plain": [
       "int"
      ]
     },
     "execution_count": 9,
     "metadata": {},
     "output_type": "execute_result"
    }
   ],
   "source": [
    "type(price)"
   ]
  },
  {
   "cell_type": "code",
   "execution_count": 10,
   "id": "fbcd0956-4b07-4d79-b4d8-ee65261966c3",
   "metadata": {},
   "outputs": [],
   "source": [
    "# the datatype gets changed from float to int when the value gets changed, in this case."
   ]
  },
  {
   "cell_type": "code",
   "execution_count": 11,
   "id": "2794082a-600f-4055-b82e-00f924689a8c",
   "metadata": {},
   "outputs": [],
   "source": [
    "is_raining=True"
   ]
  },
  {
   "cell_type": "code",
   "execution_count": 12,
   "id": "20dbbec9-0d0b-4f18-aa66-2d2e5168bfb6",
   "metadata": {},
   "outputs": [
    {
     "name": "stdout",
     "output_type": "stream",
     "text": [
      "True\n"
     ]
    }
   ],
   "source": [
    "print(is_raining)\n"
   ]
  },
  {
   "cell_type": "code",
   "execution_count": 13,
   "id": "0fc93002-c400-4e53-8ba9-8a235468e8f4",
   "metadata": {},
   "outputs": [
    {
     "data": {
      "text/plain": [
       "bool"
      ]
     },
     "execution_count": 13,
     "metadata": {},
     "output_type": "execute_result"
    }
   ],
   "source": [
    "type(is_raining)"
   ]
  },
  {
   "cell_type": "code",
   "execution_count": 14,
   "id": "fbe6d8ee-067c-4bb4-80d8-0355236232a2",
   "metadata": {},
   "outputs": [],
   "source": [
    "is_raining=False"
   ]
  },
  {
   "cell_type": "code",
   "execution_count": 15,
   "id": "eb0417c8-3acd-43c5-b1cb-b247df518f51",
   "metadata": {},
   "outputs": [
    {
     "name": "stdout",
     "output_type": "stream",
     "text": [
      "False\n"
     ]
    }
   ],
   "source": [
    "print(is_raining)"
   ]
  },
  {
   "cell_type": "code",
   "execution_count": 16,
   "id": "d75b272a-6214-4ef7-97de-b4777e8f38b3",
   "metadata": {},
   "outputs": [
    {
     "data": {
      "text/plain": [
       "bool"
      ]
     },
     "execution_count": 16,
     "metadata": {},
     "output_type": "execute_result"
    }
   ],
   "source": [
    "type(is_raining)"
   ]
  },
  {
   "cell_type": "code",
   "execution_count": null,
   "id": "16db8473-5647-4a47-b7e5-194f73fb589f",
   "metadata": {},
   "outputs": [],
   "source": [
    "            "
   ]
  },
  {
   "cell_type": "code",
   "execution_count": 44,
   "id": "90943cdd-afe7-4664-bcc2-9a83748745f4",
   "metadata": {},
   "outputs": [],
   "source": [
    "my_name=\"Rohan Joseph George\""
   ]
  },
  {
   "cell_type": "code",
   "execution_count": 46,
   "id": "1157d8e0-35a9-4708-b3b3-2983e293f925",
   "metadata": {},
   "outputs": [
    {
     "data": {
      "text/plain": [
       "'Rohan Joseph George'"
      ]
     },
     "execution_count": 46,
     "metadata": {},
     "output_type": "execute_result"
    }
   ],
   "source": [
    "my_name"
   ]
  },
  {
   "cell_type": "code",
   "execution_count": 19,
   "id": "be53141a-cac6-4ead-b17f-36f1b8c42208",
   "metadata": {},
   "outputs": [
    {
     "name": "stdin",
     "output_type": "stream",
     "text": [
      "Enter your name:  Rohan\n",
      "Enter your age:  25\n"
     ]
    },
    {
     "name": "stdout",
     "output_type": "stream",
     "text": [
      "Hello,  Rohan ! You are  25  years old.\n"
     ]
    }
   ],
   "source": [
    "name=input(\"Enter your name: \")\n",
    "age=int(input(\"Enter your age: \"))\n",
    "print(\"Hello, \",name,\"! You are \",age,\" years old.\")"
   ]
  },
  {
   "cell_type": "code",
   "execution_count": 20,
   "id": "83c5a7b0-c83d-4f84-95ed-ebc8a68947ad",
   "metadata": {},
   "outputs": [],
   "source": [
    "x=10\n",
    "y=3.5"
   ]
  },
  {
   "cell_type": "code",
   "execution_count": 21,
   "id": "14f87186-eb57-418e-9c14-edf965e2c4fa",
   "metadata": {},
   "outputs": [
    {
     "name": "stdout",
     "output_type": "stream",
     "text": [
      "10\n"
     ]
    }
   ],
   "source": [
    "print(x)"
   ]
  },
  {
   "cell_type": "code",
   "execution_count": 22,
   "id": "50908030-f057-4437-9003-42734bc332d4",
   "metadata": {},
   "outputs": [
    {
     "data": {
      "text/plain": [
       "int"
      ]
     },
     "execution_count": 22,
     "metadata": {},
     "output_type": "execute_result"
    }
   ],
   "source": [
    "type(x)"
   ]
  },
  {
   "cell_type": "code",
   "execution_count": 23,
   "id": "e368b363-214b-4b73-accc-7bef2eb67b3f",
   "metadata": {},
   "outputs": [
    {
     "name": "stdout",
     "output_type": "stream",
     "text": [
      "3.5\n"
     ]
    }
   ],
   "source": [
    "print(y)"
   ]
  },
  {
   "cell_type": "code",
   "execution_count": 24,
   "id": "b8bd0a32-ad56-4e8b-83a0-89dd1919cce0",
   "metadata": {},
   "outputs": [
    {
     "data": {
      "text/plain": [
       "float"
      ]
     },
     "execution_count": 24,
     "metadata": {},
     "output_type": "execute_result"
    }
   ],
   "source": [
    "type(y)"
   ]
  },
  {
   "cell_type": "code",
   "execution_count": 25,
   "id": "4fc41296-33c7-4959-ac7a-4aff2b91fe2c",
   "metadata": {},
   "outputs": [],
   "source": [
    "sum_xy=x+y"
   ]
  },
  {
   "cell_type": "code",
   "execution_count": 26,
   "id": "f66bc472-9ad3-4761-839c-971a0dd76220",
   "metadata": {},
   "outputs": [
    {
     "name": "stdout",
     "output_type": "stream",
     "text": [
      "13.5\n"
     ]
    }
   ],
   "source": [
    "print(sum_xy)"
   ]
  },
  {
   "cell_type": "code",
   "execution_count": 27,
   "id": "83557d23-53af-485b-9dcd-06739e7ece36",
   "metadata": {},
   "outputs": [
    {
     "data": {
      "text/plain": [
       "float"
      ]
     },
     "execution_count": 27,
     "metadata": {},
     "output_type": "execute_result"
    }
   ],
   "source": [
    "type(sum_xy)"
   ]
  },
  {
   "cell_type": "code",
   "execution_count": 28,
   "id": "8a4f554d-e0a1-4aaf-a5e8-429b11bfa111",
   "metadata": {},
   "outputs": [
    {
     "data": {
      "text/plain": [
       "float"
      ]
     },
     "execution_count": 28,
     "metadata": {},
     "output_type": "execute_result"
    }
   ],
   "source": [
    "type(45.0)"
   ]
  },
  {
   "cell_type": "code",
   "execution_count": 29,
   "id": "e887ae7a-8d95-4946-a68c-1b5e71bb47fa",
   "metadata": {},
   "outputs": [
    {
     "data": {
      "text/plain": [
       "str"
      ]
     },
     "execution_count": 29,
     "metadata": {},
     "output_type": "execute_result"
    }
   ],
   "source": [
    "type(\"hello\")"
   ]
  },
  {
   "cell_type": "code",
   "execution_count": 30,
   "id": "91d22773-3771-44eb-b82b-2804c69d0c56",
   "metadata": {},
   "outputs": [
    {
     "data": {
      "text/plain": [
       "NoneType"
      ]
     },
     "execution_count": 30,
     "metadata": {},
     "output_type": "execute_result"
    }
   ],
   "source": [
    "type(None)"
   ]
  },
  {
   "cell_type": "code",
   "execution_count": 31,
   "id": "12deab28-36a5-4afc-90aa-066549bdbc16",
   "metadata": {},
   "outputs": [
    {
     "data": {
      "text/plain": [
       "bool"
      ]
     },
     "execution_count": 31,
     "metadata": {},
     "output_type": "execute_result"
    }
   ],
   "source": [
    "type(False)"
   ]
  },
  {
   "cell_type": "code",
   "execution_count": 32,
   "id": "eed4ae05-8fcb-44ea-aad9-7bfbf913d51b",
   "metadata": {},
   "outputs": [
    {
     "name": "stdout",
     "output_type": "stream",
     "text": [
      "apple banana cherry\n"
     ]
    }
   ],
   "source": [
    "print(\"apple banana cherry\")"
   ]
  },
  {
   "cell_type": "code",
   "execution_count": 33,
   "id": "0c2454f9-30cb-439e-82f2-9821e3865d70",
   "metadata": {},
   "outputs": [
    {
     "name": "stdout",
     "output_type": "stream",
     "text": [
      "apple,banana,cherry\n"
     ]
    }
   ],
   "source": [
    "print(\"apple,banana,cherry\")"
   ]
  },
  {
   "cell_type": "code",
   "execution_count": 34,
   "id": "315e9727-a4b2-42b4-907c-ead82d97755e",
   "metadata": {},
   "outputs": [],
   "source": [
    "big_number=8679187691238930980000023333333999996217815341718172536\n"
   ]
  },
  {
   "cell_type": "code",
   "execution_count": 35,
   "id": "91fe34f9-3916-483b-a4d1-8a9a0fad3984",
   "metadata": {},
   "outputs": [
    {
     "name": "stdout",
     "output_type": "stream",
     "text": [
      "8679187691238930980000023333333999996217815341718172536\n"
     ]
    }
   ],
   "source": [
    "print(big_number)"
   ]
  },
  {
   "cell_type": "code",
   "execution_count": 36,
   "id": "edbdb915-4bbf-4e90-b064-08bd21707214",
   "metadata": {},
   "outputs": [
    {
     "data": {
      "text/plain": [
       "int"
      ]
     },
     "execution_count": 36,
     "metadata": {},
     "output_type": "execute_result"
    }
   ],
   "source": [
    "type(big_number)"
   ]
  },
  {
   "cell_type": "code",
   "execution_count": 37,
   "id": "199d7b41-21ab-4b6c-a499-876b5c1bebba",
   "metadata": {},
   "outputs": [],
   "source": [
    "#Even if the size of the no. is very huge, type remains as integer."
   ]
  },
  {
   "cell_type": "code",
   "execution_count": 38,
   "id": "e364b19e-50db-47cb-9889-655ca012714a",
   "metadata": {},
   "outputs": [
    {
     "name": "stdout",
     "output_type": "stream",
     "text": [
      "9.25\n"
     ]
    }
   ],
   "source": [
    "print(2.5*3.7)"
   ]
  },
  {
   "cell_type": "code",
   "execution_count": 39,
   "id": "98acb719-3f0b-4227-9179-c47830ee65c1",
   "metadata": {},
   "outputs": [
    {
     "data": {
      "text/plain": [
       "float"
      ]
     },
     "execution_count": 39,
     "metadata": {},
     "output_type": "execute_result"
    }
   ],
   "source": [
    "type(2.5*3.7)"
   ]
  },
  {
   "cell_type": "code",
   "execution_count": 47,
   "id": "5f5138f1-2239-43fb-a55b-8a3608440e7c",
   "metadata": {},
   "outputs": [
    {
     "name": "stdout",
     "output_type": "stream",
     "text": [
      "apple banana cherry\n"
     ]
    }
   ],
   "source": [
    "print(\"apple\",\"banana\",\"cherry\",sep=\" \")"
   ]
  },
  {
   "cell_type": "code",
   "execution_count": 48,
   "id": "eff120d9-0a60-45f0-9163-80dfe0b7fb93",
   "metadata": {},
   "outputs": [
    {
     "name": "stdout",
     "output_type": "stream",
     "text": [
      "apple,banana,cherry\n"
     ]
    }
   ],
   "source": [
    "print(\"apple\",\"banana\",\"cherry\",sep=\",\")"
   ]
  },
  {
   "cell_type": "code",
   "execution_count": null,
   "id": "2b10b5eb-4a4b-4fb9-8171-b0ddfa0a6058",
   "metadata": {},
   "outputs": [],
   "source": []
  }
 ],
 "metadata": {
  "kernelspec": {
   "display_name": "Python 3 (ipykernel)",
   "language": "python",
   "name": "python3"
  },
  "language_info": {
   "codemirror_mode": {
    "name": "ipython",
    "version": 3
   },
   "file_extension": ".py",
   "mimetype": "text/x-python",
   "name": "python",
   "nbconvert_exporter": "python",
   "pygments_lexer": "ipython3",
   "version": "3.12.7"
  }
 },
 "nbformat": 4,
 "nbformat_minor": 5
}
